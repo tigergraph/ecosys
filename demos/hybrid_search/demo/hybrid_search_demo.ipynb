{
 "cells": [
  {
   "cell_type": "markdown",
   "id": "9aba064b-ce44-4a55-bd44-5ca3364a079f",
   "metadata": {},
   "source": [
    "# Hybrid Search Demo\n",
    "\n",
    "## Create Graph Schema\n",
    "\n",
    "Since our data is stored in a **TigerGraph** instance—whether on-premise or in the cloud—we need to configure the connection settings. The recommended approach is to use **environment variables**, such as setting them with the `export` command in the shell. Here, for demonstration purposes, we configure them within Python using the `os.environ` method."
   ]
  },
  {
   "cell_type": "code",
   "execution_count": 1,
   "id": "d50318bf-37dd-432d-b566-c44add026ab0",
   "metadata": {},
   "outputs": [],
   "source": [
    "import os\n",
    "os.environ[\"TG_HOST\"] = \"http://127.0.0.1\"\n",
    "os.environ[\"TG_USERNAME\"] = \"tigergraph\"\n",
    "os.environ[\"TG_PASSWORD\"] = \"tigergraph\""
   ]
  },
  {
   "cell_type": "markdown",
   "id": "5dda6a67-ded2-4d4c-8a47-efb0ab4355a5",
   "metadata": {},
   "source": [
    "Since the graph has already been created in **TigerGraph**, you should retrieve it using the `Graph.from_db` method, which only requires the graph name."
   ]
  },
  {
   "cell_type": "code",
   "execution_count": 2,
   "id": "38808548-6140-44a5-a08c-86a3816a51bd",
   "metadata": {},
   "outputs": [],
   "source": [
    "from tigergraphx import Graph\n",
    "G = Graph.from_db(graph_name=\"KGRec\")"
   ]
  },
  {
   "cell_type": "markdown",
   "id": "c0e94e90-2493-44f3-a08e-54a67d28e232",
   "metadata": {},
   "source": [
    "## Graph-based Similarity Search\n",
    "\n",
    "To conduct the **graph-based similarity search**, you should run a pre-installed query that identifies similar songs based on user download history by leveraging the relationships in the **KGRec** graph.\n",
    "\n",
    "```sql\n",
    "CREATE OR REPLACE QUERY graph_based_similarity_search(\n",
    "  VERTEX<User> input,\n",
    "  UINT k = 10\n",
    ") FOR GRAPH KGRec SYNTAX V3 {\n",
    "  OrAccum @visited;\n",
    "  SumAccum<DOUBLE> @sum_score;\n",
    "\n",
    "  Users = {input};\n",
    "\n",
    "  Songs =\n",
    "    SELECT t\n",
    "    FROM (s:Users) -[e:downloaded]- (t)\n",
    "    POST-ACCUM\n",
    "      t.@visited = TRUE\n",
    "  ;\n",
    "\n",
    "  SimilarSongs =\n",
    "    SELECT t\n",
    "    FROM (s:Songs) -[e:similar_to]- (t)\n",
    "    WHERE t.@visited == FALSE\n",
    "    ACCUM t.@sum_score += e.score\n",
    "    ORDER BY t.@sum_score DESC\n",
    "    LIMIT k\n",
    "  ;\n",
    "\n",
    "  PRINT SimilarSongs;\n",
    "}\n",
    "```\n",
    "\n",
    "Then, you should execute the `graph_based_similarity_search` query for **user 17418216**, retrieving the **top k songs** based on the accumulated similarity score to the songs the user has downloaded."
   ]
  },
  {
   "cell_type": "code",
   "execution_count": 3,
   "id": "24e278ff-d310-4fd2-a6a2-4c84c200366e",
   "metadata": {},
   "outputs": [
    {
     "name": "stdout",
     "output_type": "stream",
     "text": [
      "{'v_id': '4425', 'v_type': 'Song', 'attributes': {'id': 4425, 'description': \"Thousand Foot Krutch vocalist Trevor McNevan -LRB- from NewReleaseTuesday -RRB- : `` This is another firecracker , more of an adrenaline rock song .\\\\nI could n't help but picture NASCAR drivers flying by on the track to this .\\\\nI love big , anthemic songs that are calls to action - so this one is case and point . ''\", '@sum_score': 4.51074226856731, '@visited': False}}\n",
      "{'v_id': '5148', 'v_type': 'Song', 'attributes': {'id': 5148, 'description': \"TFK frontman/songwriter Trevor McNevan had the idea for this song for some time .\\\\nHe told NewReleaseTuesday : `` Although it 's in the same vein as some of our other high-octane songs , like ` Fire It Up , ' it 's quite different .\\\\nI wanted it to have that U2 Vertigo type vibe ; that big stadium energy with single notes on the main guitar riff , instead of chords . ''\\\\nThis was a challenge for McNevan to sing as its one of the highest songs vocally he 's written to date .\\\\nHe told NewReleaseTuesday : `` With every record , you try to push yourself .\\\\nWhen your writing it 's no big deal , but when you get tracking , you realize , ` wow , I 'm gon na really have to step into this ! '\\\\nAnd this was the first song written for the new album that had actual rhyming in it .\\\\nI grew up on old school hip hop and have always been into rhyming .\\\\nThat 's where I came from , and I think it has given me a lot of unique advantages as a vocalist and as a writer .\\\\nIt also has its setbacks .\\\\nYou have to remember that not everybody is listening for a clever or witty lyric or vocal pattern , and it can easily throw them off or sometimes just go right over their heads .\\\\nI hate predictable rhymes .\\\\nThis song is like an explosive ; it builds and then explodes , comes right back down , builds , and then explodes again .\\\\nMusical pyro !!! I wanted the listener to feel the energy , and feel the emotion behind it .\\\\nIt 's a call to action . ''\", '@sum_score': 4.501500009904667, '@visited': False}}\n",
      "{'v_id': '3782', 'v_type': 'Song', 'attributes': {'id': 3782, 'description': \"Thousand Foot Krutch vocalist Trevor McNevan told NewReleaseTuesday he is utilizing the slang version of `` wicked '' in this song rather than its original malevolent meaning .\\\\nHe explained : `` I know what you 're thinking ... the word ` Wicked ' can be associated with a million negative things , but for me , as a Canadian , it has always been a word associated with something great - no different than the word ` awesome ' or ` going to the fence , ' ` giving it all you got ' so to speak . ''\\\\nLyrically this song is about the tendency for some Christians to be `` too nice '' and get treated like doormats .\\\\nMcNevan told NewReleaseTuesday : `` I was inspired to write this based on the saying , ` Do n't mistake kindness for weakness . '\\\\nI heard that once , and it 's always resonated with me .\\\\nI think as Christians , we can tend to be too nice , and let people walk all over us .\\\\nThis is n't a song promoting violence or anything of that nature , it 's more of a statement , saying , ` my faith 's my life , but that does n't mean you can walk all over me . ' ''\", '@sum_score': 4.475077625717253, '@visited': False}}\n",
      "{'v_id': '2346', 'v_type': 'Song', 'attributes': {'id': 2346, 'description': \"This track from the Christian Rock band Red 's third full-length album , Until We Have Faces has the subject matter of fighting off the devil .\\\\nSinger Michael Barnes explained to Artist Direct : `` We 've had a couple of songs like that on past records .\\\\nOn the first record , it was ` Wasting Time . '\\\\nIt 's that anthem song yelling at the devil saying , ` You do n't own me .\\\\nI 'm going to watch you crawl . '\\\\nIt 's really an empowering song .\\\\nI love all kinds of music from the harder stuff to the ballad-y thing .\\\\nFor me as a musician , I do n't like to go in one area such as hardcore screaming all the time .\\\\nI like how there 's a variety .\\\\nIt can get really emotional with the screams , and then there will be this soft , tender moment which will open up another whole emotional level for some people out there . ''\", '@sum_score': 4.254811733313762, '@visited': False}}\n"
     ]
    }
   ],
   "source": [
    "graph_search_results = G.run_query(\"graph_based_similarity_search\", params={\"input\": 17418216, \"k\": 4})\n",
    "for result in graph_search_results:\n",
    "    for key, songs in result.items():\n",
    "        for song in songs:\n",
    "            print(song)"
   ]
  },
  {
   "cell_type": "markdown",
   "id": "4e614896-cd2b-4c8c-9162-302652556a79",
   "metadata": {},
   "source": [
    "## Vector-based Similarity Search\n",
    "\n",
    "Now, let's perform the **vector-based similarity search**. You should continue using **user 17418216**, first retrieving the songs they have downloaded using the `G.get_neighbors` method. Then, you should obtain the embeddings of these songs using the `G.fetch_nodes` method."
   ]
  },
  {
   "cell_type": "code",
   "execution_count": 4,
   "id": "ab135661-e576-41c7-b7bc-e1e37f1721ad",
   "metadata": {},
   "outputs": [],
   "source": [
    "import numpy as np\n",
    "df = G.get_neighbors(start_nodes=17418216, start_node_type=\"User\", edge_types=\"downloaded\")\n",
    "song_ids = set(df['id'])\n",
    "songs = G.fetch_nodes(song_ids, vector_attribute_name=\"emb_1\", node_type=\"Song\")"
   ]
  },
  {
   "cell_type": "markdown",
   "id": "176c16b1-7ab5-454e-b30c-af02f8e67814",
   "metadata": {},
   "source": [
    "Then, you should compute the **user's embedding** by averaging the embeddings of the songs they have downloaded. This embedding represents the user's overall musical preferences."
   ]
  },
  {
   "cell_type": "code",
   "execution_count": 5,
   "id": "5357e183-9972-46b4-a560-7cd5172c21a3",
   "metadata": {},
   "outputs": [
    {
     "name": "stdout",
     "output_type": "stream",
     "text": [
      "(59, 1536)\n",
      "(1536,)\n"
     ]
    }
   ],
   "source": [
    "embeddings = np.array(list(songs.values()))\n",
    "user_embedding = np.mean(embeddings, axis=0)\n",
    "print(embeddings.shape)\n",
    "print(user_embedding.shape)"
   ]
  },
  {
   "cell_type": "markdown",
   "id": "b4918c95-90c1-4ffb-8271-4cbbf0adc1cd",
   "metadata": {},
   "source": [
    "Now, you should perform a **vector-based similarity search** to find the **top 4 most similar songs** to the user's embedding. The query searches for songs whose embeddings (`emb_1`) are closest to the computed **user embedding**, and each result includes the **song's ID and description**."
   ]
  },
  {
   "cell_type": "code",
   "execution_count": 6,
   "id": "5b6b5dc1-4441-46dd-9290-6f857ee39c68",
   "metadata": {},
   "outputs": [
    {
     "name": "stdout",
     "output_type": "stream",
     "text": [
      "{'id': 7103, 'distance': 0.08542156, 'description': \"Frontman and songwriter Conor O'Brien told The Daily Telegraph that this atheist anthem started out `` pretty mental , drum and bass electronica , lyrics about cities crumbling and people dying , sounds of fire and apocalyptic thing .\\\\n`` After rehearsing the song with his band , it gradually transformed into `` a pretty straightforward folk rock song about smiling into the void . ''\\\\nRegarding the song 's meaning , O'Brien told The Sun it , `` is a sort of ode to meaninglessness , that absolute void that we all feel at some stage in our lives , if not every single day .\\\\nIt sort of proposes that this void is the very thing that binds us all together as human beings on this planet . ''\\\\nO'Brien described this song to The Sun , as a `` tragi-comedy . ''\\\\nadding that he `` was very much influenced by Slaughterhouse-Five by Kurt Vonnegut - that feeling of deep , dark moments being placed alongside compulsive hilarity .\\\\n`` American writer Kurt Vonnegut -LRB- 1922 - 2007 -RRB- was a 20th-century American writer , who was known for his humanist beliefs and satirical novels .\\\\nSlaughterhouse-Five -LRB- 1969 -RRB- , which is generally recognized as Vonnegut 's most influential and popular work , drew on his experience as a World War II prisoner of war in Germany when he witnessed the destructive bombing of Dresden .\\\\nVonnegut was one of a group to survive the attack in an underground slaughterhouse meat locker used by the Germans as an ad hoc detention facility .\\\\nHis satirical novel has inspired a number of other songs .\\\\nThey include : `` Everything Is Automatic '' by Matthew Good -LRB- The lyric `` Those birds are singing '' was taken from a line in the book -RRB- .\\\\n`` And So It Goes '' by Billy Joel and `` So It Goes . ''\\\\n-LRB- Both song titles taken from a recurring line in the book used every time a death occurs -RRB- Also English alternative rock band Billy Pilgrim took their name from the novel 's soldier protagonist .\\\\nThis was the only song on -LRB- Awayland -RRB- that was written by O'Brien in one session .\\\\nHe explained to WhiteTapes : `` I literally woke up and it was in my head .\\\\nLike a Paul McCartney moment .\\\\nThis never happened to me before or after .\\\\nI just sang it to my computer and recorded so that was a quick song .\\\\nThe others were very long and slow and just , really teasing . ''\"}\n",
      "{'id': 2424, 'distance': 0.08361697, 'description': \"Lead singer Christian Lindskog : `` This was a possible title for the record for me .\\\\nIt was one of the first things I wrote and was very much tied to the intro piece .\\\\nDuring my time in Africa I dealt with a lot of conflict about my feelings towards what I was seeing .\\\\nThere is so much devastation it is hard not to become numb to it and just shut down .\\\\nWhen I came home I found the same thing was really true for everything we have to deal with from our TV sets .\\\\nI had n't seen any TV for 6 weeks and when I turned it back on I was so shocked by what I was seeing and I realized we become numb to the things that come out of our TV everyday .\\\\nThe lyric was actually pretty much improvised in the studio .\\\\nIt was one of the first vocals I did .\\\\nWith every record we make it seems like I never have the lyrics ready until the last minute , and sometime not even then !\\\\nSo I ended up working on things at the mic .\\\\nThis was definitely one of those .\\\\nThe idea of the frost in the grass is one I really love .\\\\nIt always looks so beautiful when you see a field covered in frost .\\\\nI want to take my shoes off and run in it , but the reality is , ITS COLD .\\\\nAnd eventually its not just your feet that are cold , but your whole body .\\\\nPeople 's hearts are slowly becoming colder , emotions are being replaced , we want to escape from ourselves .\\\\nWe are on a treadmill of performance but performance without purpose .\\\\nYou can blame society but we are society .\\\\nEventually what is in your heart makes you take a stand .\\\\nDrummer Marcus Dahlstrom : `` I have kind of a thing on the side writing electronic music .\\\\nI love it .\\\\nI have a lot of music like this and Simon heard this one track I was working on and thought we should turn it into a Blindside song .\\\\nI was a little unsure about how we would make it work but he found a way to translate the riff to the guitar .\\\\nSo I started to play what I had programmed and we ended up with the basic structure of the song .\\\\nWe experimented with this track a lot .\\\\nFrom this original idea to convert an electronic track to something more organic .\\\\nOne night Lasse and I were in the studio fooling around with some delays to spice the song up a bit and we ended up with a very strange layering of delays .\\\\nWe played around with some EQ and ended up with a very atmospheric piece that sounded nothing like the original song .\\\\nThat actually turned into the basis for music beneath the intro .\\\\nThen Simon and Christian did there thing and then we had the intro !\\\\nI also played a second drum part at half speed on the end of this song and then we doubled it to bring it up to tempo .\\\\nIt is the high sound you hear on the final chorus .\\\\nA lot of people think it is programming , but it is all live drums . ''\\\\n-LRB- thanks , Tim - PGH , PA , for above 2 -RRB-\"}\n",
      "{'id': 5274, 'distance': 0.08488798, 'description': \"This track not only musically slows down the pulse , but it also seems to wrap up the album in a sentimental , philosophical way .\\\\nWhen we spoke with lead singer Chris Henderson , he explained : `` The concept of this tune is simple in theory , yet many people -LRB- myself included -RRB- seem to have a hard time executing : If you are unhappy or unsatisfied , do something to change it .\\\\nDo n't stick around here to feed the mouth that bites you .\\\\nI was hoping the lyrics could apply to anyone who recognizes that they could have something better and that the only way to do it was make the change happen for yourself . ''\\\\nHenderson has spoken before about his pre-music gigs , and one ca n't help but wonder if , at some point along that path , he was driven to take his own advice after the droning 9-5 world .\\\\n`` I was more or less a butler/personal assistant to a lawyer in Hartford .\\\\nWe do n't have enough time in the day to talk about that job -- it was interesting working with a very quirky gentleman . ''\"}\n",
      "{'id': 5996, 'distance': 0.08263087, 'description': \"Frontman Justin Pierre told Alternative Press that the genesis of this song harks back to 2007 : `` The original idea for this song came while we were recording Even If It Kills Me .\\\\nI had a few lines for verses and part of the chorus , but I was n't sure where it was going .\\\\nThere was n't enough time to explore it back then , so we saved it for this record .\\\\nI had this strange image in my head of two people sitting on the roof of a house at night in the fall , shivering slightly and silently together ; their only comfort each other .\\\\nI see this song as a melancholy anthem for those of us who really wish we were more than just a science experiment , but fear that that 's probably not the case . ''\"}\n"
     ]
    }
   ],
   "source": [
    "vector_search_results = G.search(\n",
    "    data=user_embedding.tolist(),\n",
    "    vector_attribute_name=\"emb_1\",\n",
    "    node_type=\"Song\",\n",
    "    limit=4,\n",
    "    return_attributes=[\"id\", \"description\"]\n",
    ")\n",
    "for node in vector_search_results:\n",
    "    print(node)"
   ]
  },
  {
   "cell_type": "markdown",
   "id": "826be2ae-2374-4486-83b8-e373eb7c9ba3",
   "metadata": {},
   "source": [
    "## Hybrid Search\n",
    "\n",
    "Now, you will **combine graph-based and vector-based recommendations** using a **hybrid search**. The process consists of three key steps:\n",
    "\n",
    "1. **Extract and Normalize Scores**  \n",
    "   - Retrieve recommendations from both **graph-based** and **vector-based** methods.  \n",
    "   - Normalize **graph scores** and **vector distances** to ensure comparability.\n",
    "\n",
    "2. **Merge and Fill Missing Values**  \n",
    "   - Combine both sets of results into a unified dataset.  \n",
    "   - Handle missing scores by setting defaults and aligning descriptions.\n",
    "\n",
    "3. **Compute and Rank Hybrid Scores**  \n",
    "   - Compute the **hybrid score** using a weighted combination:  \n",
    "     $$ \\text{hybrid\\_score} = \\alpha \\times \\text{graph\\_score\\_norm} + (1 - \\alpha) \\times \\text{vector\\_score\\_norm} $$\n",
    "   - Rank the results and retrieve the **top 4 recommendations**."
   ]
  },
  {
   "cell_type": "code",
   "execution_count": 7,
   "id": "effc1203-cc9f-4789-91dd-32fbe95b43d4",
   "metadata": {},
   "outputs": [
    {
     "name": "stdout",
     "output_type": "stream",
     "text": [
      "ID: 4425\n",
      "Hybrid Score: 0.5000\n",
      "Description: Thousand Foot Krutch vocalist Trevor McNevan -LRB- from NewReleaseTuesday -RRB- : `` This is another firecracker , more of an adrenaline rock song .\\nI could n't help but picture NASCAR drivers flying by on the track to this .\\nI love big , anthemic songs that are calls to action - so this one is case and point . ''\n",
      "--------------------------------------------------------------------------------\n",
      "ID: 5996\n",
      "Hybrid Score: 0.5000\n",
      "Description: Frontman Justin Pierre told Alternative Press that the genesis of this song harks back to 2007 : `` The original idea for this song came while we were recording Even If It Kills Me .\\nI had a few lines for verses and part of the chorus , but I was n't sure where it was going .\\nThere was n't enough time to explore it back then , so we saved it for this record .\\nI had this strange image in my head of two people sitting on the roof of a house at night in the fall , shivering slightly and silently together ; their only comfort each other .\\nI see this song as a melancholy anthem for those of us who really wish we were more than just a science experiment , but fear that that 's probably not the case . ''\n",
      "--------------------------------------------------------------------------------\n",
      "ID: 5148\n",
      "Hybrid Score: 0.4819\n",
      "Description: TFK frontman/songwriter Trevor McNevan had the idea for this song for some time .\\nHe told NewReleaseTuesday : `` Although it 's in the same vein as some of our other high-octane songs , like ` Fire It Up , ' it 's quite different .\\nI wanted it to have that U2 Vertigo type vibe ; that big stadium energy with single notes on the main guitar riff , instead of chords . ''\\nThis was a challenge for McNevan to sing as its one of the highest songs vocally he 's written to date .\\nHe told NewReleaseTuesday : `` With every record , you try to push yourself .\\nWhen your writing it 's no big deal , but when you get tracking , you realize , ` wow , I 'm gon na really have to step into this ! '\\nAnd this was the first song written for the new album that had actual rhyming in it .\\nI grew up on old school hip hop and have always been into rhyming .\\nThat 's where I came from , and I think it has given me a lot of unique advantages as a vocalist and as a writer .\\nIt also has its setbacks .\\nYou have to remember that not everybody is listening for a clever or witty lyric or vocal pattern , and it can easily throw them off or sometimes just go right over their heads .\\nI hate predictable rhymes .\\nThis song is like an explosive ; it builds and then explodes , comes right back down , builds , and then explodes again .\\nMusical pyro !!! I wanted the listener to feel the energy , and feel the emotion behind it .\\nIt 's a call to action . ''\n",
      "--------------------------------------------------------------------------------\n",
      "ID: 3782\n",
      "Hybrid Score: 0.4303\n",
      "Description: Thousand Foot Krutch vocalist Trevor McNevan told NewReleaseTuesday he is utilizing the slang version of `` wicked '' in this song rather than its original malevolent meaning .\\nHe explained : `` I know what you 're thinking ... the word ` Wicked ' can be associated with a million negative things , but for me , as a Canadian , it has always been a word associated with something great - no different than the word ` awesome ' or ` going to the fence , ' ` giving it all you got ' so to speak . ''\\nLyrically this song is about the tendency for some Christians to be `` too nice '' and get treated like doormats .\\nMcNevan told NewReleaseTuesday : `` I was inspired to write this based on the saying , ` Do n't mistake kindness for weakness . '\\nI heard that once , and it 's always resonated with me .\\nI think as Christians , we can tend to be too nice , and let people walk all over us .\\nThis is n't a song promoting violence or anything of that nature , it 's more of a statement , saying , ` my faith 's my life , but that does n't mean you can walk all over me . ' ''\n",
      "--------------------------------------------------------------------------------\n"
     ]
    }
   ],
   "source": [
    "import pandas as pd\n",
    "\n",
    "# Extract graph-based recommendations\n",
    "graph_recs = []\n",
    "for result in graph_search_results:\n",
    "    if isinstance(result, dict):  # Ensure result is a dictionary\n",
    "        for key, songs in result.items():\n",
    "            if isinstance(songs, list):  # Ensure songs is a list\n",
    "                for song in songs:\n",
    "                    if isinstance(song, dict) and 'attributes' in song:\n",
    "                        graph_recs.append({\n",
    "                            \"id\": int(song.get('v_id', 0)),  # Default ID to 0 if missing\n",
    "                            \"graph_score\": song['attributes'].get('@sum_score', 0),  # Default to 0 if missing\n",
    "                            \"description\": song['attributes'].get('description', 'No description available')  # Default description\n",
    "                        })\n",
    "\n",
    "# Extract vector-based recommendations\n",
    "vector_recs = [\n",
    "    {\n",
    "        \"id\": int(node.get(\"id\", 0)),  # Default ID to 0 if missing\n",
    "        \"vector_distance\": node.get(\"distance\", 1.0),  # Default max distance to 1.0\n",
    "        \"description\": node.get(\"description\", \"No description available\")  # Default description\n",
    "    }\n",
    "    for node in vector_search_results\n",
    "]\n",
    "\n",
    "# Convert to DataFrame\n",
    "df_graph = pd.DataFrame(graph_recs)\n",
    "df_vector = pd.DataFrame(vector_recs)\n",
    "\n",
    "# Convert `id` column to int before merging\n",
    "df_graph['id'] = df_graph['id'].astype(int)\n",
    "df_vector['id'] = df_vector['id'].astype(int)\n",
    "\n",
    "# Normalize Graph Scores\n",
    "if not df_graph.empty and 'graph_score' in df_graph:\n",
    "    df_graph['graph_score_norm'] = (df_graph['graph_score'] - df_graph['graph_score'].min()) / \\\n",
    "                                   (df_graph['graph_score'].max() - df_graph['graph_score'].min())\n",
    "else:\n",
    "    df_graph['graph_score_norm'] = 0  # Default normalization if empty\n",
    "\n",
    "# Normalize Vector Scores (inverse because lower is better)\n",
    "if not df_vector.empty and 'vector_distance' in df_vector:\n",
    "    df_vector['vector_score_norm'] = (df_vector['vector_distance'].max() - df_vector['vector_distance']) / \\\n",
    "                                     (df_vector['vector_distance'].max() - df_vector['vector_distance'].min())\n",
    "else:\n",
    "    df_vector['vector_score_norm'] = 0  # Default normalization if empty\n",
    "\n",
    "# Merge both DataFrames\n",
    "df_merged = pd.merge(df_graph, df_vector, on='id', how='outer')\n",
    "\n",
    "# Fill missing scores and descriptions\n",
    "df_merged['graph_score_norm'] = df_merged['graph_score_norm'].fillna(0)\n",
    "df_merged['vector_score_norm'] = df_merged['vector_score_norm'].fillna(0)\n",
    "df_merged['description_x'] = df_merged['description_x'].fillna(df_merged['description_y'])\n",
    "df_merged = df_merged.rename(columns={\"description_x\": \"description\"}).drop(columns=[\"description_y\"])\n",
    "\n",
    "# Compute Hybrid Score with weight α = 0.5\n",
    "alpha = 0.5\n",
    "df_merged['hybrid_score'] = alpha * df_merged['graph_score_norm'] + (1 - alpha) * df_merged['vector_score_norm']\n",
    "\n",
    "# Sort by Hybrid Score and select top 4\n",
    "df_sorted = df_merged.sort_values(by='hybrid_score', ascending=False).head(4)\n",
    "\n",
    "# Print results one by one\n",
    "for _, row in df_sorted.iterrows():\n",
    "    print(f\"ID: {row['id']}\")\n",
    "    print(f\"Hybrid Score: {row['hybrid_score']:.4f}\")\n",
    "    print(f\"Description: {row['description']}\\n\" + \"-\" * 80)"
   ]
  },
  {
   "cell_type": "markdown",
   "id": "83881699-5b96-4749-868f-49bbd94e702d",
   "metadata": {},
   "source": [
    "## Vector Search for QA System\n",
    "\n",
    "A **QA (Question-Answering) system** is an AI-powered solution that processes user queries, retrieves relevant information from structured or unstructured data, and generates accurate, context-aware responses.\n",
    "\n",
    "To perform **vector search** for a QA system, you should first convert the **user query** into an embedding using an embedding model. In this example, we will use OpenAI's **`text-embedding-ada-002`** model."
   ]
  },
  {
   "cell_type": "code",
   "execution_count": 8,
   "id": "12bffeb3-f039-431f-9d57-774114cac70b",
   "metadata": {},
   "outputs": [
    {
     "name": "stdout",
     "output_type": "stream",
     "text": [
      "2025-03-11 22:15:02,661 - httpx - INFO - HTTP Request: POST https://api.openai.com/v1/embeddings \"HTTP/1.1 200 OK\"\n"
     ]
    }
   ],
   "source": [
    "import openai\n",
    "\n",
    "def get_question_embedding(question, model=\"text-embedding-ada-002\"):\n",
    "    \"\"\"Convert a question into an embedding (List[float]) using OpenAI API.\"\"\"\n",
    "    try:\n",
    "        response = openai.embeddings.create(input=[question], model=model)\n",
    "        return response.data[0].embedding  # Returns the embedding as List[float]\n",
    "    except Exception as e:\n",
    "        print(f\"Error generating embedding: {e}\")\n",
    "        return None  # Return None if there is an error\n",
    "\n",
    "question = 'Are there any songs in the dataset that mention a specific genre (e.g., \"rock,\" \"jazz,\" \"pop\") in their descriptions?'\n",
    "embedding = get_question_embedding(question)"
   ]
  },
  {
   "cell_type": "markdown",
   "id": "87d553fd-a7eb-4cd9-b437-904e5117826d",
   "metadata": {},
   "source": [
    "Now, you should perform a **vector-based search** to find the **top 10 most similar songs** to the given query embedding. The search compares the query embedding with **song embeddings** stored under the attribute `\"emb_1\"`, and then retrieves the most relevant results."
   ]
  },
  {
   "cell_type": "code",
   "execution_count": 9,
   "id": "0ee4a8ac-8ee9-4e47-b813-bbf251a8a137",
   "metadata": {},
   "outputs": [
    {
     "name": "stdout",
     "output_type": "stream",
     "text": [
      "[{'id': 1728, 'distance': 0.2234166, 'description': \"According to vocalist/guitarist James Petralli , White Denim 's songs are the musical manifestations of abstract paintings or philosophical tracts .\\\\nHe explained to UK music magazine the NME : `` The things that I like to read are generally abstract .\\\\nI like patterns , I like reading poetry and avant-garde prose and I 'm more interested in musical patterns in literature than I am in long-form narratives .\\\\nI look at paintings and try to visualise an object or image , then assimilate how that makes me feel into a series of phrases and try to make it musical . ''\\\\nPetralli told the NME the song is about , `` creating work and weighing its importance . ''\\\\nThis meditative hoedown is loosely based on some excerpts from The Blue and Brown Books by Austrian philosopher Ludwig Wittgenstein .\\\\nPetralli told the NME : `` The lyric-writing process is like an excavation , I 'm trying to pull words and melodies out of what 's already there . ''\\\\nPetralli 's father is former Major League Baseball catcher Geno Petralli , whose career spanned 12 years , from 1982 to 1993 .\"}, {'id': 3937, 'distance': 0.2225863, 'description': \"Kid Rock described this bluesy roadhouse shuffle to Detroit Free Press as `` Muddy Waters playing on a Motown track - lava lamps and slicked-back hair and Lincoln Continentals with flames shooting out of them . ''\"}, {'id': 3095, 'distance': 0.222947, 'description': \"This song draws on reggae-inspired genres like dancehall and dub to illustrate an eccentric young woman .\\\\n`` I love the picture of what this girl is like because I do believe , much like the narrator believes , that there is a person for every person , '' Kirsten Bush told CMT News .\\\\n`` There might even be more than one , but I do believe in it .\\\\nI 'm a hopeless and helpless romantic .\\\\nWhen that song started to unfold , we got to the bridge of it , and I was referencing dancehall , like hyip-dibi-dibi-dibi , hyip-dibi-dibi-dibi . ''\\\\nJennifer Nettles told CMT News that she embraced the chance to write lyrics based on the dub rhythm of the actual words .\\\\n`` The lyrics themselves can just be fun words that sound really ` riki-tiki ' to say , '' she noted .\\\\n`` It does n't have to always have to make narrative sense but just have fun with having fun words .\\\\nIf you remember the Sugar Hill Gang -LSB- a pioneering hip hop group in the '70s check out Rapper 's Delight -RSB- , when everybody wanted to learn ` hip-hop-hippa-to-the-hippity-hip-hop . '\\\\nEverybody wants to learn that .\\\\nIt 's fun to say . ''\"}, {'id': 504, 'distance': 0.2286872, 'description': \"Justin Timberlake ends his The 20/20 Experience album on an ambient note .\\\\nHe explained in an interview with MySpace that such songs as this tune and `` Strawberry Bubblegum '' were his attempts to put his own spin on Radiohead 's electronic rock .\\\\n`` I want people to close their eyes and listen to this album , '' he said .\\\\n`` I really do think my effort with the last album was to make people dance , and I think with this album , I wrote a lot of songs that make me want to sing ... and dance . ''\"}, {'id': 458, 'distance': 0.2323258, 'description': \"Several critics have commented that this song sounds like something written by Burt Bacharach .\\\\nHowever , Legend told Performing Songwriting magazine that any similarities were accidental .\\\\n`` I 'm not really a student of his work , '' he said .\\\\n`` He was a prolific songwriter , and there are songs of his that I did n't even know I knew , like songs sung by Luther Vandross and Aretha Franklin .\\\\nBut I do n't own any of his albums .\\\\nIt just so happened that I end up sounding like him . ''\\\\n`` You listen to music and use it to try to create something new , and who knows what 's going to come into your head , '' Legend continued .\\\\n`` A song is a song .\\\\nYou produce a song , and at that moment when you produce it , that 's when you take it into a genre .\\\\nBefore you produce it , it 's just a song , and it could be any style depending on how you decide to mix it and arrange it .\\\\nTo me , when you evaluate songwriting , you do n't do it on a genre basis .\\\\nYou ask , ` Is this a good song ? ' ''\"}, {'id': 525, 'distance': 0.2299192, 'description': \"The Court Yard Hounds album spans sounds of folk , country , rock and Americana , and on this song about an angry , disapproving father , the sisters rock out .\\\\nThe Boot asked Martie Maguire if was there any concern about the genre that the music would fit into .\\\\nShe replied : `` Not really , because Emily was doing her own demos and she would give the songs to me and they were basically complete .\\\\nSome of them were guitar-vocal , but some of them had a Dobro part or had a garage-band drum loop , just to kind of get her idea across .\\\\nSo it was all in her head , and when I got them it was actually hard to add a full band to them because I was so married to the demos .\\\\nEmily does n't really write with a genre in mind , she writes with an idea or a melody , and that drives it .\\\\nI 'm the same kind of songwriter .\\\\n-LSB- I do n't say -RSB- ` I 'm gon na sit down and write a rock song ' or ` I 'm gon na sit down a write a country song . '\\\\nWe have a bluegrass background and that tends to seep into things , the kind of acoustic nature of things -LSB- on songs like -RSB- ` Ai n't No Son ' and ` The Coast , ' the very dry acoustic sound comes from our love of liking the natural sound of instruments .\\\\nIt 's not a very affected sound .\\\\nThat sometimes can lean more country or more acoustic , but ... when we put an electric guitar in there , that would take it in a rock direction .\\\\nI think Rolling Stone called it ` folk-rock , ' which I thought was an interesting categorization . ''\\\\nLyrically the song is an angry argument between a father and a son who 's revealed he is gay .\\\\nRobison was originally inspired to write the song after watching a documentary on children coming out.Maguire told the Australian newspaper Star Observer : `` We wrote it after Emily had watched a documentary about families who throw their young boys out of the house when they find out they 're gay .\\\\nShe was really disturbed by that mentality .\\\\nShe does n't like having to sing it from the father 's perspective , because she really has to become that person when she 's singing it . ''\"}, {'id': 92, 'distance': 0.2320787, 'description': \"The song 's lyric is sampled from `` Style Of The Streets , '' a 1984 hip-hop single by Mancunian rap group Broken Glass -LRB- whose members included future Black Grape member Kermit -RRB- .\\\\nIn the song , the rappers are dreaming of a time when they will be touring round the world , making lots of money and singing songs about girls .\\\\nThe song also samples D-Train 's `` You 're The One For Me . ''\"}, {'id': 8418, 'distance': 0.230859, 'description': \"According to Cave , the songs on Push The Sky were composed from `` Googling curiosities -LSB- and -RSB- being entranced by exotic Wikipedia entries , '' with a focus on `` how on the internet profoundly significant events , momentary fads and mystically-tinged absurdities sit side-by-side . ''\\\\nThese digital fixations are prominent on this track , which finds Cave crooning , `` Wikipedia is heaven .\\\\nWhen you do n't want to remember anymore . ''\"}, {'id': 63, 'distance': 0.2309018, 'description': \"Brooklyn quintet Friends may be a Pop band , but their lyrical content is more thoughtful than many others in their genre .\\\\n`` One thing that I think is really cool is to create a sense of joy and empowerment , '' said Samantha Urbani to The Independent .\\\\n`` But not just with a message of jubilant positivity - we have a song about death and anticipating it called ` Ideas on Ghosts , ' but it 's a dance song so you reach this level of cathartic movement and energised dancing , but with a sense of awareness of all the negativity and all of the sadness and all of the spectrum of human feelings .\\\\nI think it 's really cool because a lot of dance songs are just sexy come-ons .\\\\nThis is thinking persons ' pop music , I hope . ''\"}, {'id': 5982, 'distance': 0.2316078, 'description': \"Jewel described this on her website , as `` a pop leaning toe-tapper that has a great story lyric about being close to those we love , even when away . ''\"}]\n"
     ]
    }
   ],
   "source": [
    "retrieved_songs = G.search(\n",
    "    data=embedding,\n",
    "    vector_attribute_name=\"emb_1\",\n",
    "    node_type=\"Song\",\n",
    "    limit=10,\n",
    ")\n",
    "print(retrieved_songs)"
   ]
  },
  {
   "cell_type": "markdown",
   "id": "c147dad6-1330-4b04-b166-116f9ae37e13",
   "metadata": {},
   "source": [
    "## Generate an LLM Prompt for QA\n",
    "\n",
    "Once you have retrieved relevant songs, you should generate a **structured prompt** to provide context for a **Large Language Model (LLM)** to answer the user's query. The following function formats the retrieved song descriptions into a structured input for the LLM."
   ]
  },
  {
   "cell_type": "code",
   "execution_count": 10,
   "id": "ce645f13-74b8-4ae6-b72e-c4960c42d116",
   "metadata": {},
   "outputs": [
    {
     "name": "stdout",
     "output_type": "stream",
     "text": [
      "You are an expert in analyzing song descriptions and answering user queries based on provided song data.\n",
      "\n",
      "### Task:\n",
      "Answer the following question based on the retrieved song descriptions. Use the given information to generate a relevant, concise, and insightful response.\n",
      "\n",
      "### Question:\n",
      "Are there any songs in the dataset that mention a specific genre (e.g., \"rock,\" \"jazz,\" \"pop\") in their descriptions?\n",
      "\n",
      "### Retrieved Songs:\n",
      "- id: 1728\n",
      " Description: According to vocalist/guitarist James Petralli , White Denim 's songs are the musical manifestations of abstract paintings or philosophical tracts .\\nHe explained to UK music magazine the NME : `` The things that I like to read are generally abstract .\\nI like patterns , I like reading poetry and avant-garde prose and I 'm more interested in musical patterns in literature than I am in long-form narratives .\\nI look at paintings and try to visualise an object or image , then assimilate how that makes me feel into a series of phrases and try to make it musical . ''\\nPetralli told the NME the song is about , `` creating work and weighing its importance . ''\\nThis meditative hoedown is loosely based on some excerpts from The Blue and Brown Books by Austrian philosopher Ludwig Wittgenstein .\\nPetralli told the NME : `` The lyric-writing process is like an excavation , I 'm trying to pull words and melodies out of what 's already there . ''\\nPetralli 's father is former Major League Baseball catcher Geno Petralli , whose career spanned 12 years , from 1982 to 1993 .\n",
      "- id: 3937\n",
      " Description: Kid Rock described this bluesy roadhouse shuffle to Detroit Free Press as `` Muddy Waters playing on a Motown track - lava lamps and slicked-back hair and Lincoln Continentals with flames shooting out of them . ''\n",
      "- id: 3095\n",
      " Description: This song draws on reggae-inspired genres like dancehall and dub to illustrate an eccentric young woman .\\n`` I love the picture of what this girl is like because I do believe , much like the narrator believes , that there is a person for every person , '' Kirsten Bush told CMT News .\\n`` There might even be more than one , but I do believe in it .\\nI 'm a hopeless and helpless romantic .\\nWhen that song started to unfold , we got to the bridge of it , and I was referencing dancehall , like hyip-dibi-dibi-dibi , hyip-dibi-dibi-dibi . ''\\nJennifer Nettles told CMT News that she embraced the chance to write lyrics based on the dub rhythm of the actual words .\\n`` The lyrics themselves can just be fun words that sound really ` riki-tiki ' to say , '' she noted .\\n`` It does n't have to always have to make narrative sense but just have fun with having fun words .\\nIf you remember the Sugar Hill Gang -LSB- a pioneering hip hop group in the '70s check out Rapper 's Delight -RSB- , when everybody wanted to learn ` hip-hop-hippa-to-the-hippity-hip-hop . '\\nEverybody wants to learn that .\\nIt 's fun to say . ''\n",
      "- id: 504\n",
      " Description: Justin Timberlake ends his The 20/20 Experience album on an ambient note .\\nHe explained in an interview with MySpace that such songs as this tune and `` Strawberry Bubblegum '' were his attempts to put his own spin on Radiohead 's electronic rock .\\n`` I want people to close their eyes and listen to this album , '' he said .\\n`` I really do think my effort with the last album was to make people dance , and I think with this album , I wrote a lot of songs that make me want to sing ... and dance . ''\n",
      "- id: 458\n",
      " Description: Several critics have commented that this song sounds like something written by Burt Bacharach .\\nHowever , Legend told Performing Songwriting magazine that any similarities were accidental .\\n`` I 'm not really a student of his work , '' he said .\\n`` He was a prolific songwriter , and there are songs of his that I did n't even know I knew , like songs sung by Luther Vandross and Aretha Franklin .\\nBut I do n't own any of his albums .\\nIt just so happened that I end up sounding like him . ''\\n`` You listen to music and use it to try to create something new , and who knows what 's going to come into your head , '' Legend continued .\\n`` A song is a song .\\nYou produce a song , and at that moment when you produce it , that 's when you take it into a genre .\\nBefore you produce it , it 's just a song , and it could be any style depending on how you decide to mix it and arrange it .\\nTo me , when you evaluate songwriting , you do n't do it on a genre basis .\\nYou ask , ` Is this a good song ? ' ''\n",
      "- id: 525\n",
      " Description: The Court Yard Hounds album spans sounds of folk , country , rock and Americana , and on this song about an angry , disapproving father , the sisters rock out .\\nThe Boot asked Martie Maguire if was there any concern about the genre that the music would fit into .\\nShe replied : `` Not really , because Emily was doing her own demos and she would give the songs to me and they were basically complete .\\nSome of them were guitar-vocal , but some of them had a Dobro part or had a garage-band drum loop , just to kind of get her idea across .\\nSo it was all in her head , and when I got them it was actually hard to add a full band to them because I was so married to the demos .\\nEmily does n't really write with a genre in mind , she writes with an idea or a melody , and that drives it .\\nI 'm the same kind of songwriter .\\n-LSB- I do n't say -RSB- ` I 'm gon na sit down and write a rock song ' or ` I 'm gon na sit down a write a country song . '\\nWe have a bluegrass background and that tends to seep into things , the kind of acoustic nature of things -LSB- on songs like -RSB- ` Ai n't No Son ' and ` The Coast , ' the very dry acoustic sound comes from our love of liking the natural sound of instruments .\\nIt 's not a very affected sound .\\nThat sometimes can lean more country or more acoustic , but ... when we put an electric guitar in there , that would take it in a rock direction .\\nI think Rolling Stone called it ` folk-rock , ' which I thought was an interesting categorization . ''\\nLyrically the song is an angry argument between a father and a son who 's revealed he is gay .\\nRobison was originally inspired to write the song after watching a documentary on children coming out.Maguire told the Australian newspaper Star Observer : `` We wrote it after Emily had watched a documentary about families who throw their young boys out of the house when they find out they 're gay .\\nShe was really disturbed by that mentality .\\nShe does n't like having to sing it from the father 's perspective , because she really has to become that person when she 's singing it . ''\n",
      "- id: 92\n",
      " Description: The song 's lyric is sampled from `` Style Of The Streets , '' a 1984 hip-hop single by Mancunian rap group Broken Glass -LRB- whose members included future Black Grape member Kermit -RRB- .\\nIn the song , the rappers are dreaming of a time when they will be touring round the world , making lots of money and singing songs about girls .\\nThe song also samples D-Train 's `` You 're The One For Me . ''\n",
      "- id: 8418\n",
      " Description: According to Cave , the songs on Push The Sky were composed from `` Googling curiosities -LSB- and -RSB- being entranced by exotic Wikipedia entries , '' with a focus on `` how on the internet profoundly significant events , momentary fads and mystically-tinged absurdities sit side-by-side . ''\\nThese digital fixations are prominent on this track , which finds Cave crooning , `` Wikipedia is heaven .\\nWhen you do n't want to remember anymore . ''\n",
      "- id: 63\n",
      " Description: Brooklyn quintet Friends may be a Pop band , but their lyrical content is more thoughtful than many others in their genre .\\n`` One thing that I think is really cool is to create a sense of joy and empowerment , '' said Samantha Urbani to The Independent .\\n`` But not just with a message of jubilant positivity - we have a song about death and anticipating it called ` Ideas on Ghosts , ' but it 's a dance song so you reach this level of cathartic movement and energised dancing , but with a sense of awareness of all the negativity and all of the sadness and all of the spectrum of human feelings .\\nI think it 's really cool because a lot of dance songs are just sexy come-ons .\\nThis is thinking persons ' pop music , I hope . ''\n",
      "- id: 5982\n",
      " Description: Jewel described this on her website , as `` a pop leaning toe-tapper that has a great story lyric about being close to those we love , even when away . ''\n",
      "\n",
      "Each song entry consists of:\n",
      "- **id**: A unique identifier for the song.\n",
      "- **description**: A textual description of the song.\n",
      "\n",
      "### Instructions:\n",
      "1. **Analyze** the descriptions to find relevant information related to the question.\n",
      "2. **Synthesize** an answer using the most relevant songs.\n",
      "3. **Provide explanations** or insights if necessary.\n",
      "4. **Avoid speculation** beyond the provided descriptions.\n",
      "\n",
      "### Response:\n",
      "\n"
     ]
    }
   ],
   "source": [
    "def generate_llm_prompt(question, retrieved_songs):\n",
    "    \"\"\"Generate a structured prompt for an LLM to answer a question using retrieved song descriptions.\"\"\"\n",
    "    \n",
    "    prompt_template = \"\"\"You are an expert in analyzing song descriptions and answering user queries based on provided song data.\n",
    "\n",
    "### Task:\n",
    "Answer the following question based on the retrieved song descriptions. Use the given information to generate a relevant, concise, and insightful response.\n",
    "\n",
    "### Question:\n",
    "{question}\n",
    "\n",
    "### Retrieved Songs:\n",
    "{retrieved_songs}\n",
    "\n",
    "Each song entry consists of:\n",
    "- **id**: A unique identifier for the song.\n",
    "- **description**: A textual description of the song.\n",
    "\n",
    "### Instructions:\n",
    "1. **Analyze** the descriptions to find relevant information related to the question.\n",
    "2. **Synthesize** an answer using the most relevant songs.\n",
    "3. **Provide explanations** or insights if necessary.\n",
    "4. **Avoid speculation** beyond the provided descriptions.\n",
    "\n",
    "### Response:\n",
    "\"\"\"\n",
    "\n",
    "    # Format the retrieved songs as a structured string\n",
    "    song_entries = \"\\n\".join(\n",
    "        [f\"- id: {song['id']}\\n Description: {song['description']}\" for song in retrieved_songs]\n",
    "    )\n",
    "\n",
    "    return prompt_template.format(question=question, retrieved_songs=song_entries)\n",
    "\n",
    "llm_prompt = generate_llm_prompt(question, retrieved_songs)\n",
    "\n",
    "# Print the generated prompt\n",
    "print(llm_prompt)"
   ]
  },
  {
   "cell_type": "markdown",
   "id": "caf378d0-a3f5-48b8-b6b8-ce53e8ab28cb",
   "metadata": {},
   "source": [
    "## Querying OpenAI with the Generated Prompt\n",
    "\n",
    "Next, you should send the **generated LLM prompt** to OpenAI's **GPT-4** model to get an AI-generated response."
   ]
  },
  {
   "cell_type": "code",
   "execution_count": 11,
   "id": "b535252e-ebc0-4b0c-a5e2-75a59e505a63",
   "metadata": {},
   "outputs": [
    {
     "name": "stdout",
     "output_type": "stream",
     "text": [
      "2025-03-11 22:15:18,574 - httpx - INFO - HTTP Request: POST https://api.openai.com/v1/chat/completions \"HTTP/1.1 200 OK\"\n",
      "Yes, there are several songs in the dataset that mention a specific genre in their descriptions. \n",
      "\n",
      "Song with id: 3937 is described by Kid Rock as a \"bluesy roadhouse shuffle\", indicating a blues genre. \n",
      "\n",
      "Song with id: 3095 draws on reggae-inspired genres like dancehall and dub. This song seems to incorporate elements of dancehall and dub, which are sub-genres of reggae.\n",
      "\n",
      "Song with id: 504 has Justin Timberlake attempting to put his own spin on Radiohead's electronic rock, suggesting that this song belongs to the electronic rock genre.\n",
      "\n",
      "Song with id: 525 spans sounds of folk, country, rock, and Americana. It is described as a rock song by the Court Yard Hounds.\n",
      "\n",
      "Song with id: 92 uses a sample from a 1984 hip-hop single, indicating that it might belong to the hip-hop genre.\n",
      "\n",
      "Song with id: 63 by Brooklyn quintet Friends is described as a pop band, and the song's lyrical content is described as \"thinking persons' pop music.\"\n",
      "\n",
      "Song with id: 5982 is described by Jewel as a \"pop leaning toe-tapper\", indicating a pop genre.\n"
     ]
    }
   ],
   "source": [
    "def chat_with_openai(llm_prompt, model=\"gpt-4\"):\n",
    "    \"\"\"Send the LLM prompt to OpenAI's API and get a response using the new OpenAI API (>=1.0.0).\"\"\"\n",
    "    try:\n",
    "        client = openai.OpenAI()  # New API requires initializing a client\n",
    "        response = client.chat.completions.create(\n",
    "            model=model,\n",
    "            messages=[\n",
    "                {\"role\": \"system\", \"content\": \"You are a helpful assistant that analyzes song descriptions.\"},\n",
    "                {\"role\": \"user\", \"content\": llm_prompt}\n",
    "            ],\n",
    "            temperature=0.7\n",
    "        )\n",
    "        return response.choices[0].message.content\n",
    "    except Exception as e:\n",
    "        print(f\"Error querying OpenAI: {e}\")\n",
    "        return None\n",
    "\n",
    "response = chat_with_openai(llm_prompt)\n",
    "print(response)"
   ]
  },
  {
   "cell_type": "markdown",
   "id": "5764d327-c12c-45d8-8fea-2de4415ce7d1",
   "metadata": {},
   "source": [
    "## Hybrid Search for QA System\n",
    "\n",
    "Now, you should enhance the **QA system** by integrating **hybrid search**, which combines **vector-based and graph-based** results to improve accuracy."
   ]
  },
  {
   "cell_type": "code",
   "execution_count": 12,
   "id": "f4f6de2d-ec72-42b6-b179-af7244a08ee4",
   "metadata": {},
   "outputs": [
    {
     "name": "stdout",
     "output_type": "stream",
     "text": [
      "[{'id': 3095, 'distance': 0.222947, 'description': \"This song draws on reggae-inspired genres like dancehall and dub to illustrate an eccentric young woman .\\\\n`` I love the picture of what this girl is like because I do believe , much like the narrator believes , that there is a person for every person , '' Kirsten Bush told CMT News .\\\\n`` There might even be more than one , but I do believe in it .\\\\nI 'm a hopeless and helpless romantic .\\\\nWhen that song started to unfold , we got to the bridge of it , and I was referencing dancehall , like hyip-dibi-dibi-dibi , hyip-dibi-dibi-dibi . ''\\\\nJennifer Nettles told CMT News that she embraced the chance to write lyrics based on the dub rhythm of the actual words .\\\\n`` The lyrics themselves can just be fun words that sound really ` riki-tiki ' to say , '' she noted .\\\\n`` It does n't have to always have to make narrative sense but just have fun with having fun words .\\\\nIf you remember the Sugar Hill Gang -LSB- a pioneering hip hop group in the '70s check out Rapper 's Delight -RSB- , when everybody wanted to learn ` hip-hop-hippa-to-the-hippity-hip-hop . '\\\\nEverybody wants to learn that .\\\\nIt 's fun to say . ''\"}, {'id': 1728, 'distance': 0.2234166, 'description': \"According to vocalist/guitarist James Petralli , White Denim 's songs are the musical manifestations of abstract paintings or philosophical tracts .\\\\nHe explained to UK music magazine the NME : `` The things that I like to read are generally abstract .\\\\nI like patterns , I like reading poetry and avant-garde prose and I 'm more interested in musical patterns in literature than I am in long-form narratives .\\\\nI look at paintings and try to visualise an object or image , then assimilate how that makes me feel into a series of phrases and try to make it musical . ''\\\\nPetralli told the NME the song is about , `` creating work and weighing its importance . ''\\\\nThis meditative hoedown is loosely based on some excerpts from The Blue and Brown Books by Austrian philosopher Ludwig Wittgenstein .\\\\nPetralli told the NME : `` The lyric-writing process is like an excavation , I 'm trying to pull words and melodies out of what 's already there . ''\\\\nPetralli 's father is former Major League Baseball catcher Geno Petralli , whose career spanned 12 years , from 1982 to 1993 .\"}, {'id': 525, 'distance': 0.2299192, 'description': \"The Court Yard Hounds album spans sounds of folk , country , rock and Americana , and on this song about an angry , disapproving father , the sisters rock out .\\\\nThe Boot asked Martie Maguire if was there any concern about the genre that the music would fit into .\\\\nShe replied : `` Not really , because Emily was doing her own demos and she would give the songs to me and they were basically complete .\\\\nSome of them were guitar-vocal , but some of them had a Dobro part or had a garage-band drum loop , just to kind of get her idea across .\\\\nSo it was all in her head , and when I got them it was actually hard to add a full band to them because I was so married to the demos .\\\\nEmily does n't really write with a genre in mind , she writes with an idea or a melody , and that drives it .\\\\nI 'm the same kind of songwriter .\\\\n-LSB- I do n't say -RSB- ` I 'm gon na sit down and write a rock song ' or ` I 'm gon na sit down a write a country song . '\\\\nWe have a bluegrass background and that tends to seep into things , the kind of acoustic nature of things -LSB- on songs like -RSB- ` Ai n't No Son ' and ` The Coast , ' the very dry acoustic sound comes from our love of liking the natural sound of instruments .\\\\nIt 's not a very affected sound .\\\\nThat sometimes can lean more country or more acoustic , but ... when we put an electric guitar in there , that would take it in a rock direction .\\\\nI think Rolling Stone called it ` folk-rock , ' which I thought was an interesting categorization . ''\\\\nLyrically the song is an angry argument between a father and a son who 's revealed he is gay .\\\\nRobison was originally inspired to write the song after watching a documentary on children coming out.Maguire told the Australian newspaper Star Observer : `` We wrote it after Emily had watched a documentary about families who throw their young boys out of the house when they find out they 're gay .\\\\nShe was really disturbed by that mentality .\\\\nShe does n't like having to sing it from the father 's perspective , because she really has to become that person when she 's singing it . ''\"}, {'id': 3937, 'distance': 0.2225863, 'description': \"Kid Rock described this bluesy roadhouse shuffle to Detroit Free Press as `` Muddy Waters playing on a Motown track - lava lamps and slicked-back hair and Lincoln Continentals with flames shooting out of them . ''\"}, {'id': 504, 'distance': 0.2286872, 'description': \"Justin Timberlake ends his The 20/20 Experience album on an ambient note .\\\\nHe explained in an interview with MySpace that such songs as this tune and `` Strawberry Bubblegum '' were his attempts to put his own spin on Radiohead 's electronic rock .\\\\n`` I want people to close their eyes and listen to this album , '' he said .\\\\n`` I really do think my effort with the last album was to make people dance , and I think with this album , I wrote a lot of songs that make me want to sing ... and dance . ''\"}]\n"
     ]
    }
   ],
   "source": [
    "retrieved_songs = G.search(\n",
    "    data=embedding,\n",
    "    vector_attribute_name=\"emb_1\",\n",
    "    node_type=\"Song\",\n",
    "    limit=5,\n",
    ")\n",
    "print(retrieved_songs)"
   ]
  },
  {
   "cell_type": "markdown",
   "id": "ec343bed-91a5-4f8d-ba3b-966b7990ab23",
   "metadata": {},
   "source": [
    "Next, you should retrieve **graph-based recommendations** for the previously retrieved songs. The **`get_neighbors`** query finds similar songs by traversing **`similar_to`** edges, accumulating similarity scores, and ranking the top `k` results. Below is the query definition:  \n",
    "\n",
    "```sql\n",
    "CREATE OR REPLACE QUERY get_neighbors(\n",
    "  SET<VERTEX<Song>> input,\n",
    "  UINT k = 10\n",
    ") FOR GRAPH KGRec SYNTAX V3 {\n",
    "  OrAccum @visited;\n",
    "  SumAccum<DOUBLE> @sum_score;\n",
    "  Songs = {input};\n",
    "  Songs =\n",
    "    SELECT s\n",
    "    FROM Songs:s\n",
    "    POST-ACCUM\n",
    "      s.@visited = TRUE\n",
    "  ;\n",
    "  SimilarSongs =\n",
    "    SELECT t\n",
    "    FROM (s:Songs) -[e:similar_to]- (t)\n",
    "    WHERE t.@visited == FALSE\n",
    "    ACCUM t.@sum_score += e.score\n",
    "    ORDER BY t.@sum_score DESC\n",
    "    LIMIT k\n",
    "  ;\n",
    "  PRINT SimilarSongs;\n",
    "}\n",
    "```\n",
    "\n",
    "Now, run the following Python code to execute the query and retrieve similar songs:"
   ]
  },
  {
   "cell_type": "code",
   "execution_count": 13,
   "id": "0fed81ef-343b-4500-bdb4-8e89c20167cd",
   "metadata": {},
   "outputs": [
    {
     "name": "stdout",
     "output_type": "stream",
     "text": [
      "[{'SimilarSongs': [{'v_id': '5362', 'v_type': 'Song', 'attributes': {'id': 5362, 'description': \"Vocalist/guitarist James Petralli told UK music magazine the NME about this Rock-Operaesque tune , which veers into prog territory : `` I do n't think we 'll ever go full-on prog but all of us like to be challenged in that way .\\\\nWe listen to a lot of Soft Machine and a lot of Yes .\\\\nProg music is challenging and hilarious and we 've always wanted to do something which walks that line .\\\\n` Anvil Everything ' was our attempt to fulfil a bit of a prog fantasy , to see if we could make it acceptable . ''\", '@sum_score': 0.7105263157894737, '@visited': False}}, {'v_id': '6306', 'v_type': 'Song', 'attributes': {'id': 6306, 'description': \"It took just three takes to lay down this cut .\\\\n`` Bob Seger called me and told me this song kicks ass , '' Rock told Detroit Free Press .\\\\n`` Need I say more ?\\\\n`` He added : `` There is nothing - no pop song , no rap song , no soul song , no country song - that will ever top barn-burning , blues-based rock 'n' roll . ''\", '@sum_score': 0.625, '@visited': False}}, {'v_id': '3148', 'v_type': 'Song', 'attributes': {'id': 3148, 'description': \"The song begins with Timbaland introducing `` JT & The Tennessee Kids '' to the audience .\\\\n-LRB- The Tennessee Kids are Timberlake 's live orchestra that accompanies him on performances . -RRB-\\\\nThe cheesy introduction at the microphone serves as a flashback to the Justified track , `` Senorita , '' which starts in the same manner .\\\\nThe song contains a sample from Jamaican reggae musician King Sporty 's track `` Self Destruct . ''\\\\nKing Sporty is best known for co-authoring Bob Marley 's hit tune , '' Buffalo Soldier . ''\\\\nTimberlake debuted the song at a Super Bowl charity party on February 2 , 2013 .\\\\nTimberlake told MySpace how he recruited his Tennessee Kids backing band .\\\\n`` I just want to go and , like , rip everybody 's face off with some great musicians , '' he explained `` And so we just started scouting the best musicians we could find and we found a lot of 'em that grew up in the church , which was so appropriate for the stuff that I wrote for this album .\\\\nThey 're killer .\\\\nAnd they make me sound way better than I am . ''\", '@sum_score': 0.5787671232876712, '@visited': False}}, {'v_id': '4586', 'v_type': 'Song', 'attributes': {'id': 4586, 'description': \"This empowerment anthem is the title track to Sugarland 's fourth studio album .\\\\nIn our 2010 interview with Jennifer Nettles of Sugarland , she told us : `` I love the way the song came about musically .\\\\nIt hovered around for a couple of days in that I had that little piano part .\\\\nI was playing around with that at home , and Kristian -LRB- Bush -RRB- and I came into the writing studio and we wrote part of the lyrics , the ` feels like I 'm flying , wings made of light , ' separately .\\\\nWe thought it was going to be a different song .\\\\nWe had n't put anything together yet .\\\\nWe thought that was actually going to be the chorus of another song .\\\\nAnd then we were also listening to some drums , some rhythm grooves at the time , and he started playing a guitar part .\\\\nI said , ` Wait a minute .\\\\nLet me go sit down at the piano here . '\\\\nAnd it all came together , the cogs and the wheels just all started moving and aligning , and suddenly we were like , ` Oh , wait a minute .\\\\nNo , we 're going to make this be reverse , ' and the whole song just really unfolded in this really beautiful discovery .\\\\nIt was a discovery for us , as well .\\\\nIt 's always really special when a song reveals itself in that way , where it goes to a refreshing discovery .\\\\nSome of them you punch and kick and all of that , and some of them really reveal themselves , and ` Incredible Machine ' definitely felt that way .\\\\nAnd I love the metaphor , because it speaks to the human heart and the incredible machine that it is , and its exquisite capacity to love and to feel and to understand . ''\\\\nThe Incredible Machine is inspired by some of the artists Kristen Bush and Jennifer Nettles listened to in their teen years such as Blondie , Peter Gabriel , R.E.M. and The Clash .\\\\nNettles told The Boot that in recording The Incredible Machine the pair wanted , `` to explore new territory and allow the genre to grow because , as we all know , if we do n't grow we stagnate .\\\\n`` Nettles added that the line , `` Feels like I 'm flying , wings made of light/brand new and shinin ' , like a shot rung out through the night , '' best sums up the bands rebirth .\\\\nShe explained : `` That 's a wonderful metaphor and image for this newly emerging creature that Sugarland is right now , with these vulnerable but beautiful wings .\\\\nThe Incredible Machine is definitely us , but at the same time , there is something very precious and new . ''\", '@sum_score': 0.5737583395107486, '@visited': False}}, {'v_id': '7783', 'v_type': 'Song', 'attributes': {'id': 7783, 'description': \"This song finds Rock exploring how despite his fame , he still experiences loneliness .\\\\n`` I just pictured myself having an honest conversation in the mirror ... you know , Bob Richie talking to Kid Rock .\\\\nBut it 's not , you know , ` Oh , I 'm so successful and I feel alone , '' he told MTV News .\\\\nLong-term studio cohort and co-engineer Al Sutton told Detroit Free Press : `` There was a specific vibe on this , and we spent a lot of time to get the right take .\\\\nThe next day -LRB- Kid Rock -RRB- comes and decides to take the drums out of the first half .\\\\nIt was kind of funny - we 'd spent so much time on it .\\\\nBut his instinct was right on . ''\", '@sum_score': 0.5555555555555556, '@visited': False}}]}]\n"
     ]
    }
   ],
   "source": [
    "retrieved_song_ids = [song[\"id\"] for song in retrieved_songs]\n",
    "neighbors = G.run_query(\"get_neighbors\", params={\"input\": retrieved_song_ids, \"k\": 5})\n",
    "print(neighbors)"
   ]
  },
  {
   "cell_type": "markdown",
   "id": "af7a3e99-860d-4b44-bcda-184c00f45d49",
   "metadata": {},
   "source": [
    "Now, you should merge the **vector search results** with the **graph search results** while ensuring that no duplicate songs are included."
   ]
  },
  {
   "cell_type": "code",
   "execution_count": 14,
   "id": "1bfa89b1-3811-4687-a6e0-81f776b08e09",
   "metadata": {},
   "outputs": [],
   "source": [
    "# Convert vector search results to a list of dictionaries\n",
    "combined_results = {song[\"id\"]: {\n",
    "    \"id\": song[\"id\"],\n",
    "    \"description\": song[\"description\"]\n",
    "} for song in retrieved_songs}\n",
    "\n",
    "# Add graph search results (ensuring no duplicates)\n",
    "for song in neighbors[0][\"SimilarSongs\"]:\n",
    "    song_id = int(song[\"v_id\"])\n",
    "    if song_id not in combined_results:  # Avoid duplicates\n",
    "        combined_results[song_id] = {\n",
    "            \"id\": song_id,\n",
    "            \"description\": song[\"attributes\"][\"description\"]\n",
    "        }\n",
    "\n",
    "# Convert the merged dictionary back to a list format\n",
    "retrieved_songs_combined = list(combined_results.values())"
   ]
  },
  {
   "cell_type": "markdown",
   "id": "2851d20e-ebd7-47b7-9d86-11411ba6dfbf",
   "metadata": {},
   "source": [
    "Finally, you should generate a new **LLM prompt** using the combined results and query OpenAI again."
   ]
  },
  {
   "cell_type": "code",
   "execution_count": 15,
   "id": "9229d129-4c5f-4f02-8f3f-bd2e5ad8e2ce",
   "metadata": {},
   "outputs": [
    {
     "name": "stdout",
     "output_type": "stream",
     "text": [
      "You are an expert in analyzing song descriptions and answering user queries based on provided song data.\n",
      "\n",
      "### Task:\n",
      "Answer the following question based on the retrieved song descriptions. Use the given information to generate a relevant, concise, and insightful response.\n",
      "\n",
      "### Question:\n",
      "Are there any songs in the dataset that mention a specific genre (e.g., \"rock,\" \"jazz,\" \"pop\") in their descriptions?\n",
      "\n",
      "### Retrieved Songs:\n",
      "- id: 3095\n",
      " Description: This song draws on reggae-inspired genres like dancehall and dub to illustrate an eccentric young woman .\\n`` I love the picture of what this girl is like because I do believe , much like the narrator believes , that there is a person for every person , '' Kirsten Bush told CMT News .\\n`` There might even be more than one , but I do believe in it .\\nI 'm a hopeless and helpless romantic .\\nWhen that song started to unfold , we got to the bridge of it , and I was referencing dancehall , like hyip-dibi-dibi-dibi , hyip-dibi-dibi-dibi . ''\\nJennifer Nettles told CMT News that she embraced the chance to write lyrics based on the dub rhythm of the actual words .\\n`` The lyrics themselves can just be fun words that sound really ` riki-tiki ' to say , '' she noted .\\n`` It does n't have to always have to make narrative sense but just have fun with having fun words .\\nIf you remember the Sugar Hill Gang -LSB- a pioneering hip hop group in the '70s check out Rapper 's Delight -RSB- , when everybody wanted to learn ` hip-hop-hippa-to-the-hippity-hip-hop . '\\nEverybody wants to learn that .\\nIt 's fun to say . ''\n",
      "- id: 1728\n",
      " Description: According to vocalist/guitarist James Petralli , White Denim 's songs are the musical manifestations of abstract paintings or philosophical tracts .\\nHe explained to UK music magazine the NME : `` The things that I like to read are generally abstract .\\nI like patterns , I like reading poetry and avant-garde prose and I 'm more interested in musical patterns in literature than I am in long-form narratives .\\nI look at paintings and try to visualise an object or image , then assimilate how that makes me feel into a series of phrases and try to make it musical . ''\\nPetralli told the NME the song is about , `` creating work and weighing its importance . ''\\nThis meditative hoedown is loosely based on some excerpts from The Blue and Brown Books by Austrian philosopher Ludwig Wittgenstein .\\nPetralli told the NME : `` The lyric-writing process is like an excavation , I 'm trying to pull words and melodies out of what 's already there . ''\\nPetralli 's father is former Major League Baseball catcher Geno Petralli , whose career spanned 12 years , from 1982 to 1993 .\n",
      "- id: 525\n",
      " Description: The Court Yard Hounds album spans sounds of folk , country , rock and Americana , and on this song about an angry , disapproving father , the sisters rock out .\\nThe Boot asked Martie Maguire if was there any concern about the genre that the music would fit into .\\nShe replied : `` Not really , because Emily was doing her own demos and she would give the songs to me and they were basically complete .\\nSome of them were guitar-vocal , but some of them had a Dobro part or had a garage-band drum loop , just to kind of get her idea across .\\nSo it was all in her head , and when I got them it was actually hard to add a full band to them because I was so married to the demos .\\nEmily does n't really write with a genre in mind , she writes with an idea or a melody , and that drives it .\\nI 'm the same kind of songwriter .\\n-LSB- I do n't say -RSB- ` I 'm gon na sit down and write a rock song ' or ` I 'm gon na sit down a write a country song . '\\nWe have a bluegrass background and that tends to seep into things , the kind of acoustic nature of things -LSB- on songs like -RSB- ` Ai n't No Son ' and ` The Coast , ' the very dry acoustic sound comes from our love of liking the natural sound of instruments .\\nIt 's not a very affected sound .\\nThat sometimes can lean more country or more acoustic , but ... when we put an electric guitar in there , that would take it in a rock direction .\\nI think Rolling Stone called it ` folk-rock , ' which I thought was an interesting categorization . ''\\nLyrically the song is an angry argument between a father and a son who 's revealed he is gay .\\nRobison was originally inspired to write the song after watching a documentary on children coming out.Maguire told the Australian newspaper Star Observer : `` We wrote it after Emily had watched a documentary about families who throw their young boys out of the house when they find out they 're gay .\\nShe was really disturbed by that mentality .\\nShe does n't like having to sing it from the father 's perspective , because she really has to become that person when she 's singing it . ''\n",
      "- id: 3937\n",
      " Description: Kid Rock described this bluesy roadhouse shuffle to Detroit Free Press as `` Muddy Waters playing on a Motown track - lava lamps and slicked-back hair and Lincoln Continentals with flames shooting out of them . ''\n",
      "- id: 504\n",
      " Description: Justin Timberlake ends his The 20/20 Experience album on an ambient note .\\nHe explained in an interview with MySpace that such songs as this tune and `` Strawberry Bubblegum '' were his attempts to put his own spin on Radiohead 's electronic rock .\\n`` I want people to close their eyes and listen to this album , '' he said .\\n`` I really do think my effort with the last album was to make people dance , and I think with this album , I wrote a lot of songs that make me want to sing ... and dance . ''\n",
      "- id: 5362\n",
      " Description: Vocalist/guitarist James Petralli told UK music magazine the NME about this Rock-Operaesque tune , which veers into prog territory : `` I do n't think we 'll ever go full-on prog but all of us like to be challenged in that way .\\nWe listen to a lot of Soft Machine and a lot of Yes .\\nProg music is challenging and hilarious and we 've always wanted to do something which walks that line .\\n` Anvil Everything ' was our attempt to fulfil a bit of a prog fantasy , to see if we could make it acceptable . ''\n",
      "- id: 6306\n",
      " Description: It took just three takes to lay down this cut .\\n`` Bob Seger called me and told me this song kicks ass , '' Rock told Detroit Free Press .\\n`` Need I say more ?\\n`` He added : `` There is nothing - no pop song , no rap song , no soul song , no country song - that will ever top barn-burning , blues-based rock 'n' roll . ''\n",
      "- id: 3148\n",
      " Description: The song begins with Timbaland introducing `` JT & The Tennessee Kids '' to the audience .\\n-LRB- The Tennessee Kids are Timberlake 's live orchestra that accompanies him on performances . -RRB-\\nThe cheesy introduction at the microphone serves as a flashback to the Justified track , `` Senorita , '' which starts in the same manner .\\nThe song contains a sample from Jamaican reggae musician King Sporty 's track `` Self Destruct . ''\\nKing Sporty is best known for co-authoring Bob Marley 's hit tune , '' Buffalo Soldier . ''\\nTimberlake debuted the song at a Super Bowl charity party on February 2 , 2013 .\\nTimberlake told MySpace how he recruited his Tennessee Kids backing band .\\n`` I just want to go and , like , rip everybody 's face off with some great musicians , '' he explained `` And so we just started scouting the best musicians we could find and we found a lot of 'em that grew up in the church , which was so appropriate for the stuff that I wrote for this album .\\nThey 're killer .\\nAnd they make me sound way better than I am . ''\n",
      "- id: 4586\n",
      " Description: This empowerment anthem is the title track to Sugarland 's fourth studio album .\\nIn our 2010 interview with Jennifer Nettles of Sugarland , she told us : `` I love the way the song came about musically .\\nIt hovered around for a couple of days in that I had that little piano part .\\nI was playing around with that at home , and Kristian -LRB- Bush -RRB- and I came into the writing studio and we wrote part of the lyrics , the ` feels like I 'm flying , wings made of light , ' separately .\\nWe thought it was going to be a different song .\\nWe had n't put anything together yet .\\nWe thought that was actually going to be the chorus of another song .\\nAnd then we were also listening to some drums , some rhythm grooves at the time , and he started playing a guitar part .\\nI said , ` Wait a minute .\\nLet me go sit down at the piano here . '\\nAnd it all came together , the cogs and the wheels just all started moving and aligning , and suddenly we were like , ` Oh , wait a minute .\\nNo , we 're going to make this be reverse , ' and the whole song just really unfolded in this really beautiful discovery .\\nIt was a discovery for us , as well .\\nIt 's always really special when a song reveals itself in that way , where it goes to a refreshing discovery .\\nSome of them you punch and kick and all of that , and some of them really reveal themselves , and ` Incredible Machine ' definitely felt that way .\\nAnd I love the metaphor , because it speaks to the human heart and the incredible machine that it is , and its exquisite capacity to love and to feel and to understand . ''\\nThe Incredible Machine is inspired by some of the artists Kristen Bush and Jennifer Nettles listened to in their teen years such as Blondie , Peter Gabriel , R.E.M. and The Clash .\\nNettles told The Boot that in recording The Incredible Machine the pair wanted , `` to explore new territory and allow the genre to grow because , as we all know , if we do n't grow we stagnate .\\n`` Nettles added that the line , `` Feels like I 'm flying , wings made of light/brand new and shinin ' , like a shot rung out through the night , '' best sums up the bands rebirth .\\nShe explained : `` That 's a wonderful metaphor and image for this newly emerging creature that Sugarland is right now , with these vulnerable but beautiful wings .\\nThe Incredible Machine is definitely us , but at the same time , there is something very precious and new . ''\n",
      "- id: 7783\n",
      " Description: This song finds Rock exploring how despite his fame , he still experiences loneliness .\\n`` I just pictured myself having an honest conversation in the mirror ... you know , Bob Richie talking to Kid Rock .\\nBut it 's not , you know , ` Oh , I 'm so successful and I feel alone , '' he told MTV News .\\nLong-term studio cohort and co-engineer Al Sutton told Detroit Free Press : `` There was a specific vibe on this , and we spent a lot of time to get the right take .\\nThe next day -LRB- Kid Rock -RRB- comes and decides to take the drums out of the first half .\\nIt was kind of funny - we 'd spent so much time on it .\\nBut his instinct was right on . ''\n",
      "\n",
      "Each song entry consists of:\n",
      "- **id**: A unique identifier for the song.\n",
      "- **description**: A textual description of the song.\n",
      "\n",
      "### Instructions:\n",
      "1. **Analyze** the descriptions to find relevant information related to the question.\n",
      "2. **Synthesize** an answer using the most relevant songs.\n",
      "3. **Provide explanations** or insights if necessary.\n",
      "4. **Avoid speculation** beyond the provided descriptions.\n",
      "\n",
      "### Response:\n",
      "\n"
     ]
    }
   ],
   "source": [
    "llm_prompt = generate_llm_prompt(question, retrieved_songs_combined)\n",
    "\n",
    "# Print the generated prompt\n",
    "print(llm_prompt)"
   ]
  },
  {
   "cell_type": "code",
   "execution_count": 16,
   "id": "647e1dcd-07ef-4bb2-a4ec-9241090adbea",
   "metadata": {},
   "outputs": [
    {
     "name": "stdout",
     "output_type": "stream",
     "text": [
      "2025-03-11 22:15:44,068 - httpx - INFO - HTTP Request: POST https://api.openai.com/v1/chat/completions \"HTTP/1.1 200 OK\"\n",
      "Yes, several songs in the dataset mention specific genres in their descriptions. \n",
      "\n",
      "- Song 3095 draws on reggae-inspired genres like dancehall and dub.\n",
      "- Song 525 spans sounds of folk, country, rock, and Americana.\n",
      "- Song 3937 is described as a bluesy roadhouse shuffle.\n",
      "- Song 504 is Justin Timberlake's attempt to put his own spin on Radiohead's electronic rock.\n",
      "- Song 5362 is described as a rock-opera tune that veers into prog territory.\n",
      "- Song 6306 is described as blues-based rock 'n' roll.\n",
      "- Song 4586 is inspired by artists such as Blondie, Peter Gabriel, R.E.M., and The Clash which suggests a mix of pop, rock and new wave influences.\n",
      "\n",
      "These descriptions indicate that a variety of genres are represented in the dataset.\n"
     ]
    }
   ],
   "source": [
    "response = chat_with_openai(llm_prompt)\n",
    "print(response)"
   ]
  },
  {
   "cell_type": "markdown",
   "id": "cd52ed6a-bbe5-437b-afd0-9adf4065c06e",
   "metadata": {},
   "source": [
    "## Drop Graph\n",
    "\n",
    "Once testing is complete, you can **drop the graph schema** to clean up resources."
   ]
  },
  {
   "cell_type": "code",
   "execution_count": 17,
   "id": "8712066b-7452-4852-97f7-d06dfa5debe3",
   "metadata": {},
   "outputs": [
    {
     "name": "stdout",
     "output_type": "stream",
     "text": [
      "2025-03-11 22:15:45,726 - tigergraphx.core.managers.schema_manager - INFO - Dropping graph: KGRec...\n",
      "2025-03-11 22:15:49,041 - tigergraphx.core.managers.schema_manager - INFO - Graph dropped successfully.\n"
     ]
    }
   ],
   "source": [
    ">>> G.drop_graph()"
   ]
  },
  {
   "cell_type": "markdown",
   "id": "8e47a026-003c-46b3-b743-5265b64e0d79",
   "metadata": {},
   "source": [
    "---"
   ]
  }
 ],
 "metadata": {
  "kernelspec": {
   "display_name": "Python 3 (ipykernel)",
   "language": "python",
   "name": "python3"
  },
  "language_info": {
   "codemirror_mode": {
    "name": "ipython",
    "version": 3
   },
   "file_extension": ".py",
   "mimetype": "text/x-python",
   "name": "python",
   "nbconvert_exporter": "python",
   "pygments_lexer": "ipython3",
   "version": "3.12.6"
  }
 },
 "nbformat": 4,
 "nbformat_minor": 5
}
