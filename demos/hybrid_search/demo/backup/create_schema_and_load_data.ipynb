{
 "cells": [
  {
   "cell_type": "markdown",
   "id": "9aba064b-ce44-4a55-bd44-5ca3364a079f",
   "metadata": {},
   "source": [
    "# Hybrid Search Demo\n",
    "## Create Graph Schema"
   ]
  },
  {
   "cell_type": "code",
   "execution_count": 1,
   "id": "d50318bf-37dd-432d-b566-c44add026ab0",
   "metadata": {},
   "outputs": [],
   "source": [
    "import os\n",
    "os.environ[\"TG_HOST\"] = \"http://127.0.0.1\"\n",
    "os.environ[\"TG_USERNAME\"] = \"tigergraph\"\n",
    "os.environ[\"TG_PASSWORD\"] = \"tigergraph\""
   ]
  },
  {
   "cell_type": "code",
   "execution_count": 2,
   "id": "38808548-6140-44a5-a08c-86a3816a51bd",
   "metadata": {},
   "outputs": [],
   "source": [
    "graph_schema = {\n",
    "    \"graph_name\": \"KGRec\",\n",
    "    \"nodes\": {\n",
    "        \"User\": {\n",
    "            \"primary_key\": \"id\",\n",
    "            \"attributes\": {\n",
    "                \"id\": \"INT\",\n",
    "            },\n",
    "        },\n",
    "        \"Song\": {\n",
    "            \"primary_key\": \"id\",\n",
    "            \"attributes\": {\n",
    "                \"id\": \"INT\",\n",
    "                \"description\": \"STRING\",\n",
    "            },\n",
    "            \"vector_attributes\": {\"emb_1\": 1536},\n",
    "        },\n",
    "    },\n",
    "    \"edges\": {\n",
    "        \"downloaded\": {\n",
    "            \"is_directed_edge\": False,\n",
    "            \"from_node_type\": \"User\",\n",
    "            \"to_node_type\": \"Song\",\n",
    "        },\n",
    "        \"similar_to\": {\n",
    "            \"is_directed_edge\": False,\n",
    "            \"from_node_type\": \"Song\",\n",
    "            \"to_node_type\": \"Song\",\n",
    "            \"attributes\": {\n",
    "                \"score\": \"DOUBLE\",\n",
    "            },\n",
    "        },\n",
    "    },\n",
    "}"
   ]
  },
  {
   "cell_type": "code",
   "execution_count": 3,
   "id": "f4f36935-a3db-4cd6-9633-db2122851169",
   "metadata": {},
   "outputs": [
    {
     "name": "stdout",
     "output_type": "stream",
     "text": [
      "2025-03-11 22:01:27,308 - tigergraphx.core.managers.schema_manager - INFO - Creating schema for graph: KGRec...\n",
      "2025-03-11 22:03:05,515 - tigergraphx.core.managers.schema_manager - INFO - Graph schema created successfully.\n",
      "2025-03-11 22:03:05,518 - tigergraphx.core.managers.schema_manager - INFO - Adding vector attribute(s) for graph: KGRec...\n",
      "2025-03-11 22:03:58,557 - tigergraphx.core.managers.schema_manager - INFO - Vector attribute(s) added successfully.\n"
     ]
    }
   ],
   "source": [
    "from tigergraphx import Graph\n",
    "G = Graph(graph_schema)"
   ]
  },
  {
   "cell_type": "markdown",
   "id": "becf3ea0-20b3-4e72-bf34-ccb7d0ba288e",
   "metadata": {},
   "source": [
    "## Load Data"
   ]
  },
  {
   "cell_type": "code",
   "execution_count": 4,
   "id": "51e5d71c-b656-4c22-b189-a522f0e7a97c",
   "metadata": {},
   "outputs": [],
   "source": [
    "loading_job_config = {\n",
    "    \"loading_job_name\": \"loading_job\",\n",
    "    \"files\": [\n",
    "        {\n",
    "            \"file_alias\": \"f_song\",\n",
    "            \"file_path\": \"/home/tigergraph/data/hybrid-search-demo/demo/data/song_embeddings.csv\",\n",
    "            \"csv_parsing_options\": {\n",
    "                \"separator\": \",\",\n",
    "                \"header\": True,\n",
    "            },\n",
    "            \"node_mappings\": [\n",
    "                {\n",
    "                    \"target_name\": \"Song\",\n",
    "                    \"attribute_column_mappings\": {\n",
    "                        \"id\": \"item_id\",\n",
    "                        \"description\": \"description\",\n",
    "                        \"emb_1\": 'SPLIT($\"embedding\", \" \")',\n",
    "                    },\n",
    "                }\n",
    "            ],\n",
    "        },\n",
    "        {\n",
    "            \"file_alias\": \"f_downloads\",\n",
    "            \"file_path\": \"/home/tigergraph/data/hybrid-search-demo/demo/data/implicit_lf_dataset.csv\",\n",
    "            \"csv_parsing_options\": {\n",
    "                \"separator\": \"\\t\",\n",
    "                \"header\": False,\n",
    "            },\n",
    "            \"node_mappings\": [\n",
    "                {\n",
    "                    \"target_name\": \"User\",\n",
    "                    \"attribute_column_mappings\": {\n",
    "                        \"id\": 0,\n",
    "                    },\n",
    "                },\n",
    "                {\n",
    "                    \"target_name\": \"Song\",\n",
    "                    \"attribute_column_mappings\": {\n",
    "                        \"id\": 1,\n",
    "                    },\n",
    "                }\n",
    "            ],\n",
    "            \"edge_mappings\": [\n",
    "                {\n",
    "                    \"target_name\": \"downloaded\",\n",
    "                    \"source_node_column\": 0,\n",
    "                    \"target_node_column\": 1,\n",
    "                }\n",
    "            ],\n",
    "        },\n",
    "        {\n",
    "            \"file_alias\": \"f_similar_to\",\n",
    "            \"file_path\": \"/home/tigergraph/data/hybrid-search-demo/demo/data/similar_songs.csv\",\n",
    "            \"csv_parsing_options\": {\n",
    "                \"separator\": \",\",\n",
    "                \"header\": True,\n",
    "            },\n",
    "            \"edge_mappings\": [\n",
    "                {\n",
    "                    \"target_name\": \"similar_to\",\n",
    "                    \"source_node_column\": \"song_id_1\",\n",
    "                    \"target_node_column\": \"song_id_2\",\n",
    "                    \"attribute_column_mappings\": {\n",
    "                        \"score\": \"similarity_score\",\n",
    "                    },\n",
    "                }\n",
    "            ],\n",
    "        },\n",
    "    ],\n",
    "}"
   ]
  },
  {
   "cell_type": "code",
   "execution_count": 5,
   "id": "d1b77573-6b59-4c3b-be0e-efac78de6c35",
   "metadata": {},
   "outputs": [
    {
     "name": "stdout",
     "output_type": "stream",
     "text": [
      "2025-03-11 22:04:12,900 - tigergraphx.core.managers.data_manager - INFO - Initiating data load for job: loading_job...\n",
      "2025-03-11 22:04:20,255 - tigergraphx.core.managers.data_manager - INFO - Data load completed successfully.\n"
     ]
    }
   ],
   "source": [
    "G.load_data(loading_job_config)"
   ]
  },
  {
   "cell_type": "markdown",
   "id": "8e47a026-003c-46b3-b743-5265b64e0d79",
   "metadata": {},
   "source": [
    "---"
   ]
  }
 ],
 "metadata": {
  "kernelspec": {
   "display_name": "Python 3 (ipykernel)",
   "language": "python",
   "name": "python3"
  },
  "language_info": {
   "codemirror_mode": {
    "name": "ipython",
    "version": 3
   },
   "file_extension": ".py",
   "mimetype": "text/x-python",
   "name": "python",
   "nbconvert_exporter": "python",
   "pygments_lexer": "ipython3",
   "version": "3.12.6"
  }
 },
 "nbformat": 4,
 "nbformat_minor": 5
}
